{
  "nbformat": 4,
  "nbformat_minor": 0,
  "metadata": {
    "colab": {
      "provenance": []
    },
    "kernelspec": {
      "name": "python3",
      "display_name": "Python 3"
    },
    "language_info": {
      "name": "python"
    }
  },
  "cells": [
    {
      "cell_type": "markdown",
      "source": [
        "**IMPORING THE LIBRARIES**"
      ],
      "metadata": {
        "id": "s4FVgnUQizXy"
      }
    },
    {
      "cell_type": "code",
      "execution_count": 1,
      "metadata": {
        "id": "65ESY0F4imdQ"
      },
      "outputs": [],
      "source": [
        "import pandas as pd\n",
        "import matplotlib.pyplot as plt"
      ]
    },
    {
      "cell_type": "markdown",
      "source": [
        "**LOAD THE DATASET**"
      ],
      "metadata": {
        "id": "51MOpc4Uj0-v"
      }
    },
    {
      "cell_type": "code",
      "source": [
        "data = pd.read_csv('/content/Dataset .csv')"
      ],
      "metadata": {
        "id": "8rdecT3ji5z4"
      },
      "execution_count": 3,
      "outputs": []
    },
    {
      "cell_type": "markdown",
      "source": [
        "**AGGREGATE RATING ANZLYZE**"
      ],
      "metadata": {
        "id": "Q3BC0-F_j58k"
      }
    },
    {
      "cell_type": "code",
      "source": [
        "aggregate_ratings = data['Aggregate rating']\n",
        "rating_counts = aggregate_ratings.value_counts()\n",
        "print(rating_counts)"
      ],
      "metadata": {
        "colab": {
          "base_uri": "https://localhost:8080/"
        },
        "id": "RU9KgWz7jC3P",
        "outputId": "b0483bae-af95-4d82-82c1-a1cdaa25d78e"
      },
      "execution_count": 7,
      "outputs": [
        {
          "output_type": "stream",
          "name": "stdout",
          "text": [
            "0.0    2148\n",
            "3.2     522\n",
            "3.1     519\n",
            "3.4     498\n",
            "3.3     483\n",
            "3.5     480\n",
            "3.0     468\n",
            "3.6     458\n",
            "3.7     427\n",
            "3.8     400\n",
            "2.9     381\n",
            "3.9     335\n",
            "2.8     315\n",
            "4.1     274\n",
            "4.0     266\n",
            "2.7     250\n",
            "4.2     221\n",
            "2.6     191\n",
            "4.3     174\n",
            "4.4     144\n",
            "2.5     110\n",
            "4.5      95\n",
            "2.4      87\n",
            "4.6      78\n",
            "4.9      61\n",
            "2.3      47\n",
            "4.7      42\n",
            "2.2      27\n",
            "4.8      25\n",
            "2.1      15\n",
            "2.0       7\n",
            "1.9       2\n",
            "1.8       1\n",
            "Name: Aggregate rating, dtype: int64\n"
          ]
        }
      ]
    },
    {
      "cell_type": "markdown",
      "source": [
        "**MOST COMMON RATING RANGE**"
      ],
      "metadata": {
        "id": "JIJmZcNQkDGT"
      }
    },
    {
      "cell_type": "code",
      "source": [
        "common_rating_range =rating_counts.idxmax()\n",
        "\n",
        "print(\"Most common rating range:\", common_rating_range)"
      ],
      "metadata": {
        "colab": {
          "base_uri": "https://localhost:8080/"
        },
        "id": "mDXfFj19jUOg",
        "outputId": "8eba1aaf-a647-442d-b434-4997a76eb104"
      },
      "execution_count": 8,
      "outputs": [
        {
          "output_type": "stream",
          "name": "stdout",
          "text": [
            "Most common rating range: 0.0\n"
          ]
        }
      ]
    },
    {
      "cell_type": "markdown",
      "source": [
        "DISTRIBUTION OF RATING RANGE SHOWN BY HISTOGRAM"
      ],
      "metadata": {
        "id": "o-MauNvOklB1"
      }
    },
    {
      "cell_type": "code",
      "source": [
        "plt.hist(aggregate_ratings, bins=20,color='grey',edgecolor='red')\n",
        "plt.xlabel('Aggregate Rating')\n",
        "plt.ylabel('Frequency')\n",
        "plt.title('Distribution of Aggregate Ratings')\n",
        "plt.show()"
      ],
      "metadata": {
        "colab": {
          "base_uri": "https://localhost:8080/",
          "height": 472
        },
        "id": "ExhwuxGVkj5P",
        "outputId": "9a92c1aa-df80-4271-e9d1-80af1e0372b3"
      },
      "execution_count": 14,
      "outputs": [
        {
          "output_type": "display_data",
          "data": {
            "text/plain": [
              "<Figure size 640x480 with 1 Axes>"
            ],
            "image/png": "[encoded data removed]"
          },
          "metadata": {}
        }
      ]
    },
    {
      "cell_type": "markdown",
      "source": [
        "AVERAGE NUMBER OF VOTES RECIVED BY RESTAURANTS"
      ],
      "metadata": {
        "id": "If81dt10kLXV"
      }
    },
    {
      "cell_type": "code",
      "source": [
        "average_votes = data['Votes'].mean()\n",
        "print(\"Average number of votes received by restaurants:\", average_votes)"
      ],
      "metadata": {
        "colab": {
          "base_uri": "https://localhost:8080/"
        },
        "id": "OWRXMNuwjyTc",
        "outputId": "08b26164-cb24-4e0d-a6d7-ffe0706fd67a"
      },
      "execution_count": 9,
      "outputs": [
        {
          "output_type": "stream",
          "name": "stdout",
          "text": [
            "Average number of votes received by restaurants: 156.909747670401\n"
          ]
        }
      ]
    },
    {
      "cell_type": "code",
      "source": [],
      "metadata": {
        "id": "Zc1Z0Ql_keg5"
      },
      "execution_count": null,
      "outputs": []
    }
  ]
}