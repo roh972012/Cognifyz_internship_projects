{
  "nbformat": 4,
  "nbformat_minor": 0,
  "metadata": {
    "colab": {
      "provenance": []
    },
    "kernelspec": {
      "name": "python3",
      "display_name": "Python 3"
    },
    "language_info": {
      "name": "python"
    }
  },
  "cells": [
    {
      "cell_type": "markdown",
      "source": [
        "**IMPORTING THE LIBRARIES**"
      ],
      "metadata": {
        "id": "Khd0FsGVUgdn"
      }
    },
    {
      "cell_type": "code",
      "execution_count": 1,
      "metadata": {
        "id": "28h8b91MUJb5"
      },
      "outputs": [],
      "source": [
        "import pandas as pd\n",
        "import matplotlib.pyplot as plt"
      ]
    },
    {
      "cell_type": "markdown",
      "source": [
        "**LOAD THE DATASET**\n",
        "\n"
      ],
      "metadata": {
        "id": "Ggnn1FNiUocS"
      }
    },
    {
      "cell_type": "code",
      "source": [
        "data = pd.read_csv('/content/Dataset .csv')"
      ],
      "metadata": {
        "id": "mlLCd-TXUfmm"
      },
      "execution_count": 2,
      "outputs": []
    },
    {
      "cell_type": "markdown",
      "source": [
        "**RESTAURANT THAT HAS ONLINE DELIVERY**"
      ],
      "metadata": {
        "id": "JTMVdbuvVBWS"
      }
    },
    {
      "cell_type": "code",
      "source": [
        "restaurants = len(data)\n",
        "online_delivery_restaurants = data['Has Online delivery'].value_counts()\n",
        "print(online_delivery_restaurants)"
      ],
      "metadata": {
        "colab": {
          "base_uri": "https://localhost:8080/"
        },
        "id": "qM5CuMQxU1xX",
        "outputId": "16100cd6-ece8-4cee-8840-dde37e253def"
      },
      "execution_count": 7,
      "outputs": [
        {
          "output_type": "stream",
          "name": "stdout",
          "text": [
            "No     7100\n",
            "Yes    2451\n",
            "Name: Has Online delivery, dtype: int64\n"
          ]
        }
      ]
    },
    {
      "cell_type": "markdown",
      "source": [
        "2451 RESTAURANTS OFFER ONLINE DELIVERY"
      ],
      "metadata": {
        "id": "Hx3lXLqKWYfc"
      }
    },
    {
      "cell_type": "markdown",
      "source": [
        "***PERCENTAGE***"
      ],
      "metadata": {
        "id": "UwHmGLx7VtWD"
      }
    },
    {
      "cell_type": "code",
      "source": [
        "percentage_of_online_delivery_restaurants = (online_delivery_restaurants / restaurants) * 100\n",
        "print(\"percentage_of_online_delivery_restaurants:\",percentage_of_online_delivery_restaurants)"
      ],
      "metadata": {
        "colab": {
          "base_uri": "https://localhost:8080/"
        },
        "id": "E3PyKBBBVcVM",
        "outputId": "17f5c395-3ae3-41f5-eb8a-74305c31bfe5"
      },
      "execution_count": 8,
      "outputs": [
        {
          "output_type": "stream",
          "name": "stdout",
          "text": [
            "percentage_of_online_delivery_restaurants: No     74.337766\n",
            "Yes    25.662234\n",
            "Name: Has Online delivery, dtype: float64\n"
          ]
        }
      ]
    },
    {
      "cell_type": "markdown",
      "source": [
        "25.66 % RESTAURANT OFFER ONLINE DELIVERY"
      ],
      "metadata": {
        "id": "SN1BuFsnWSML"
      }
    },
    {
      "cell_type": "markdown",
      "source": [
        "**AVERAGE RATING OF RESTAURANTS**"
      ],
      "metadata": {
        "id": "M2lU7UTlWrdZ"
      }
    },
    {
      "cell_type": "code",
      "source": [
        "average_rating_with_online_delivery = data[data['Has Online delivery'] == 'Yes']['Aggregate rating'].mean()\n",
        "print(\"Average rating of restaurants with online delivery:\", average_rating_with_online_delivery)"
      ],
      "metadata": {
        "colab": {
          "base_uri": "https://localhost:8080/"
        },
        "id": "PNJjx2LUWNUZ",
        "outputId": "7816f59d-2ac1-4360-b13b-82ece0f2f490"
      },
      "execution_count": 11,
      "outputs": [
        {
          "output_type": "stream",
          "name": "stdout",
          "text": [
            "Average rating of restaurants with online delivery: 3.2488372093023257\n"
          ]
        }
      ]
    },
    {
      "cell_type": "code",
      "source": [
        "average_rating_without_online_delivery = data[data['Has Online delivery'] == 'No']['Aggregate rating'].mean()\n",
        "print(\"Average rating of restaurants without online delivery:\", average_rating_without_online_delivery)"
      ],
      "metadata": {
        "colab": {
          "base_uri": "https://localhost:8080/"
        },
        "id": "mIU2luq6XKz_",
        "outputId": "28bdc304-edd9-4f5a-e405-ed5b3299df47"
      },
      "execution_count": 12,
      "outputs": [
        {
          "output_type": "stream",
          "name": "stdout",
          "text": [
            "Average rating of restaurants without online delivery: 2.465295774647887\n"
          ]
        }
      ]
    },
    {
      "cell_type": "markdown",
      "source": [
        "**SHOWING THE COMPARISION BY HISTOGRAM**"
      ],
      "metadata": {
        "id": "QPtiT1_MXraU"
      }
    },
    {
      "cell_type": "code",
      "source": [
        "labels = ['Online Delivery Restaurants', 'Without Online Delivery Restaurants']\n",
        "average_ratings = [average_rating_with_online_delivery, average_rating_without_online_delivery]\n",
        "\n",
        "plt.bar(labels, average_ratings)\n",
        "plt.xlabel('Online Delivery')\n",
        "plt.ylabel('Average Rating')\n",
        "\n",
        "plt.show()"
      ],
      "metadata": {
        "colab": {
          "base_uri": "https://localhost:8080/",
          "height": 449
        },
        "id": "5APYdJAuXmGA",
        "outputId": "c42846ef-baa6-419a-d3ad-b845380d44d7"
      },
      "execution_count": 15,
      "outputs": [
        {
          "output_type": "display_data",
          "data": {
            "text/plain": [
              "<Figure size 640x480 with 1 Axes>"
            ],
            "image/png": "[encoded data removed]"
          },
          "metadata": {}
        }
      ]
    },
    {
      "cell_type": "code",
      "source": [],
      "metadata": {
        "id": "40xBHE57Xz38"
      },
      "execution_count": null,
      "outputs": []
    }
  ]
}