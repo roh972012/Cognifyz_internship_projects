{
  "nbformat": 4,
  "nbformat_minor": 0,
  "metadata": {
    "colab": {
      "provenance": []
    },
    "kernelspec": {
      "name": "python3",
      "display_name": "Python 3"
    },
    "language_info": {
      "name": "python"
    }
  },
  "cells": [
    {
      "cell_type": "markdown",
      "source": [
        "IMPORT THE LIBRARIES"
      ],
      "metadata": {
        "id": "ec0BZcdMm-V9"
      }
    },
    {
      "cell_type": "code",
      "execution_count": 1,
      "metadata": {
        "id": "3757mnS9ldhq"
      },
      "outputs": [],
      "source": [
        "import pandas as pd\n",
        "import matplotlib.pyplot as plt"
      ]
    },
    {
      "cell_type": "markdown",
      "source": [
        "LOAD THE DATASET"
      ],
      "metadata": {
        "id": "ttPzrfWhnDhB"
      }
    },
    {
      "cell_type": "code",
      "source": [
        "data = pd.read_csv(\"/content/Dataset .csv\")"
      ],
      "metadata": {
        "id": "TXgraPmqlqor"
      },
      "execution_count": 2,
      "outputs": []
    },
    {
      "cell_type": "markdown",
      "source": [
        "IDENTIFY MOST COMMON CUISINE COMBINATION IN DATASET"
      ],
      "metadata": {
        "id": "PPEOK8j2nGU4"
      }
    },
    {
      "cell_type": "code",
      "source": [
        "cuisines = data[\"Cuisines\"]\n",
        "cuisine_combination = cuisines.value_counts().head(10)\n",
        "print(\"Most Common Cuisine Combination : \\n\", cuisine_combination)"
      ],
      "metadata": {
        "colab": {
          "base_uri": "https://localhost:8080/"
        },
        "id": "JnjfeStklvtB",
        "outputId": "c3c444c2-917a-46e6-f5f2-49848fa98aeb"
      },
      "execution_count": 4,
      "outputs": [
        {
          "output_type": "stream",
          "name": "stdout",
          "text": [
            "Most Common Cuisine Combination : \n",
            " North Indian                      936\n",
            "North Indian, Chinese             511\n",
            "Chinese                           354\n",
            "Fast Food                         354\n",
            "North Indian, Mughlai             334\n",
            "Cafe                              299\n",
            "Bakery                            218\n",
            "North Indian, Mughlai, Chinese    197\n",
            "Bakery, Desserts                  170\n",
            "Street Food                       149\n",
            "Name: Cuisines, dtype: int64\n"
          ]
        }
      ]
    },
    {
      "cell_type": "markdown",
      "source": [
        "CUISINE COMBINATION RATING"
      ],
      "metadata": {
        "id": "6SVBthsOnUup"
      }
    },
    {
      "cell_type": "code",
      "source": [
        "aggregate_ratings = data[\"Aggregate rating\"]\n",
        "cuisine_combinations_avg_rating = data.groupby(\"Cuisines\")[\"Aggregate rating\"].mean()\n",
        "print(cuisine_combinations_avg_rating)"
      ],
      "metadata": {
        "colab": {
          "base_uri": "https://localhost:8080/"
        },
        "id": "eautPTi1mhHH",
        "outputId": "4e25ef0f-c80d-490c-b66c-d3478cb58f77"
      },
      "execution_count": 5,
      "outputs": [
        {
          "output_type": "stream",
          "name": "stdout",
          "text": [
            "Cuisines\n",
            "Afghani                                      0.725\n",
            "Afghani, Mughlai, Chinese                    0.000\n",
            "Afghani, North Indian                        0.000\n",
            "Afghani, North Indian, Pakistani, Arabian    0.000\n",
            "African                                      4.700\n",
            "                                             ...  \n",
            "Western, Asian, Cafe                         4.200\n",
            "Western, Fusion, Fast Food                   3.200\n",
            "World Cuisine                                4.900\n",
            "World Cuisine, Mexican, Italian              4.400\n",
            "World Cuisine, Patisserie, Cafe              4.200\n",
            "Name: Aggregate rating, Length: 1825, dtype: float64\n"
          ]
        }
      ]
    },
    {
      "cell_type": "markdown",
      "source": [
        "HIGHEST CUISINES COMBINATION RATING"
      ],
      "metadata": {
        "id": "IYaf626An3tM"
      }
    },
    {
      "cell_type": "code",
      "source": [
        "top_ratings = cuisine_combinations_avg_rating.nlargest(10)\n",
        "print(\"Average ratings for the top 10 cuisine combinations: \\n\", top_ratings)"
      ],
      "metadata": {
        "colab": {
          "base_uri": "https://localhost:8080/"
        },
        "id": "TUfDQw4qnuQV",
        "outputId": "fd696ca2-d16d-480c-9298-29447f069c0c"
      },
      "execution_count": 7,
      "outputs": [
        {
          "output_type": "stream",
          "name": "stdout",
          "text": [
            "Average ratings for the top 10 cuisine combinations: \n",
            " Cuisines\n",
            "American, BBQ, Sandwich         4.9\n",
            "American, Burger, Grill         4.9\n",
            "American, Caribbean, Seafood    4.9\n",
            "American, Coffee and Tea        4.9\n",
            "American, Sandwich, Tea         4.9\n",
            "BBQ, Breakfast, Southern        4.9\n",
            "Burger, Bar Food, Steak         4.9\n",
            "Continental, Indian             4.9\n",
            "European, Asian, Indian         4.9\n",
            "European, Contemporary          4.9\n",
            "Name: Aggregate rating, dtype: float64\n"
          ]
        }
      ]
    },
    {
      "cell_type": "code",
      "source": [],
      "metadata": {
        "id": "0mJ_JyREoINZ"
      },
      "execution_count": null,
      "outputs": []
    }
  ]
}